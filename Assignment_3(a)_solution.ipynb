{
 "cells": [
  {
   "cell_type": "code",
   "execution_count": 13,
   "metadata": {},
   "outputs": [],
   "source": [
    "import matplotlib.pyplot as plt\n",
    "import pandas as pd\n",
    "import pylab as pl\n",
    "import numpy as np\n",
    "%matplotlib inline"
   ]
  },
  {
   "cell_type": "code",
   "execution_count": 55,
   "metadata": {},
   "outputs": [
    {
     "data": {
      "text/html": [
       "<div>\n",
       "<style scoped>\n",
       "    .dataframe tbody tr th:only-of-type {\n",
       "        vertical-align: middle;\n",
       "    }\n",
       "\n",
       "    .dataframe tbody tr th {\n",
       "        vertical-align: top;\n",
       "    }\n",
       "\n",
       "    .dataframe thead th {\n",
       "        text-align: right;\n",
       "    }\n",
       "</style>\n",
       "<table border=\"1\" class=\"dataframe\">\n",
       "  <thead>\n",
       "    <tr style=\"text-align: right;\">\n",
       "      <th></th>\n",
       "      <th>population</th>\n",
       "      <th>profit</th>\n",
       "    </tr>\n",
       "  </thead>\n",
       "  <tbody>\n",
       "    <tr>\n",
       "      <th>0</th>\n",
       "      <td>6.1101</td>\n",
       "      <td>17.5920</td>\n",
       "    </tr>\n",
       "    <tr>\n",
       "      <th>1</th>\n",
       "      <td>5.5277</td>\n",
       "      <td>9.1302</td>\n",
       "    </tr>\n",
       "    <tr>\n",
       "      <th>2</th>\n",
       "      <td>8.5186</td>\n",
       "      <td>13.6620</td>\n",
       "    </tr>\n",
       "    <tr>\n",
       "      <th>3</th>\n",
       "      <td>7.0032</td>\n",
       "      <td>11.8540</td>\n",
       "    </tr>\n",
       "    <tr>\n",
       "      <th>4</th>\n",
       "      <td>5.8598</td>\n",
       "      <td>6.8233</td>\n",
       "    </tr>\n",
       "  </tbody>\n",
       "</table>\n",
       "</div>"
      ],
      "text/plain": [
       "   population   profit\n",
       "0      6.1101  17.5920\n",
       "1      5.5277   9.1302\n",
       "2      8.5186  13.6620\n",
       "3      7.0032  11.8540\n",
       "4      5.8598   6.8233"
      ]
     },
     "execution_count": 55,
     "metadata": {},
     "output_type": "execute_result"
    }
   ],
   "source": [
    "data=pd.read_csv(\"data.txt\",header=-1)\n",
    "data.columns=[\"population\",\"profit\"]\n",
    "data.head()"
   ]
  },
  {
   "cell_type": "code",
   "execution_count": 16,
   "metadata": {},
   "outputs": [
    {
     "data": {
      "image/png": "[encoded data removed]",
      "text/plain": [
       "<Figure size 432x288 with 1 Axes>"
      ]
     },
     "metadata": {
      "needs_background": "light"
     },
     "output_type": "display_data"
    }
   ],
   "source": [
    "plt.scatter(data[0].tolist(),data[1].tolist(),label='profit on population',color='k')\n",
    "plt.xlabel('population')\n",
    "plt.ylabel('profit')\n",
    "plt.legend()\n",
    "plt.show()"
   ]
  },
  {
   "cell_type": "code",
   "execution_count": 17,
   "metadata": {},
   "outputs": [
    {
     "name": "stdout",
     "output_type": "stream",
     "text": [
      "<class 'pandas.core.frame.DataFrame'>\n",
      "RangeIndex: 97 entries, 0 to 96\n",
      "Data columns (total 2 columns):\n",
      "0    97 non-null float64\n",
      "1    97 non-null float64\n",
      "dtypes: float64(2)\n",
      "memory usage: 1.6 KB\n"
     ]
    }
   ],
   "source": [
    "data.info()"
   ]
  },
  {
   "cell_type": "code",
   "execution_count": 31,
   "metadata": {},
   "outputs": [],
   "source": [
    "X=data.iloc[:,0]\n",
    "y=data.iloc[:,1]\n",
    "X=np.asanyarray(X)\n",
    "y=np.asanyarray(y)"
   ]
  },
  {
   "cell_type": "code",
   "execution_count": 32,
   "metadata": {},
   "outputs": [],
   "source": [
    "thet=np.zeros((2,(len(X))))"
   ]
  },
  {
   "cell_type": "code",
   "execution_count": 33,
   "metadata": {},
   "outputs": [
    {
     "name": "stdout",
     "output_type": "stream",
     "text": [
      "the cost value at is :  32.072733877455676\n"
     ]
    }
   ],
   "source": [
    "def cost_function(X,y,theta):\n",
    "    J=np.sum(((theta[0] + theta[1] * X) - y)**2)/(2*len(X))\n",
    "    print(\"the cost value is : \",J)\n",
    "cost_function(X,y,thet)"
   ]
  },
  {
   "cell_type": "code",
   "execution_count": 80,
   "metadata": {},
   "outputs": [],
   "source": [
    "def gradientDescent(X,y,theta,lr=0.01,iteration=20):\n",
    "    i=0\n",
    "    while i<iteration:\n",
    "        diff = (theta[0] + theta[1] * X - y)\n",
    "        a0 = 2 * np.sum(diff) / len(X)\n",
    "        a1 = 2 * np.sum(diff * X) / len(X)\n",
    "        theta[0]= theta[0] -lr * a0\n",
    "        theta[1] = theta[1] - lr *a1\n",
    "        cost_function(X,y,theta)\n",
    "        i=i+1\n",
    "       \n",
    "    return theta     "
   ]
  },
  {
   "cell_type": "code",
   "execution_count": 35,
   "metadata": {},
   "outputs": [
    {
     "name": "stdout",
     "output_type": "stream",
     "text": [
      "the cost value at is :  16.769642371667477\n",
      "the cost value at is :  10.407579751768974\n",
      "the cost value at is :  7.7591834803023465\n",
      "the cost value at is :  6.653287534646753\n",
      "the cost value at is :  6.188105823037992\n",
      "the cost value at is :  5.989084519364204\n",
      "the cost value at is :  5.9006537729257875\n",
      "the cost value at is :  5.858197920163226\n",
      "the cost value at is :  5.834878785201405\n",
      "the cost value at is :  5.819548934223245\n",
      "the cost value at is :  5.807578027277277\n",
      "the cost value at is :  5.797042577385663\n",
      "the cost value at is :  5.787143381054757\n",
      "the cost value at is :  5.777548203870703\n",
      "the cost value at is :  5.768118767375579\n",
      "the cost value at is :  5.758797354060333\n",
      "the cost value at is :  5.749559709152846\n",
      "the cost value at is :  5.740395478534908\n",
      "the cost value at is :  5.731300083688731\n",
      "the cost value at is :  5.722271346971492\n"
     ]
    },
    {
     "data": {
      "text/plain": [
       "array([[-0.19732262, -0.19732262, -0.19732262, -0.19732262, -0.19732262,\n",
       "        -0.19732262, -0.19732262, -0.19732262, -0.19732262, -0.19732262,\n",
       "        -0.19732262, -0.19732262, -0.19732262, -0.19732262, -0.19732262,\n",
       "        -0.19732262, -0.19732262, -0.19732262, -0.19732262, -0.19732262,\n",
       "        -0.19732262, -0.19732262, -0.19732262, -0.19732262, -0.19732262,\n",
       "        -0.19732262, -0.19732262, -0.19732262, -0.19732262, -0.19732262,\n",
       "        -0.19732262, -0.19732262, -0.19732262, -0.19732262, -0.19732262,\n",
       "        -0.19732262, -0.19732262, -0.19732262, -0.19732262, -0.19732262,\n",
       "        -0.19732262, -0.19732262, -0.19732262, -0.19732262, -0.19732262,\n",
       "        -0.19732262, -0.19732262, -0.19732262, -0.19732262, -0.19732262,\n",
       "        -0.19732262, -0.19732262, -0.19732262, -0.19732262, -0.19732262,\n",
       "        -0.19732262, -0.19732262, -0.19732262, -0.19732262, -0.19732262,\n",
       "        -0.19732262, -0.19732262, -0.19732262, -0.19732262, -0.19732262,\n",
       "        -0.19732262, -0.19732262, -0.19732262, -0.19732262, -0.19732262,\n",
       "        -0.19732262, -0.19732262, -0.19732262, -0.19732262, -0.19732262,\n",
       "        -0.19732262, -0.19732262, -0.19732262, -0.19732262, -0.19732262,\n",
       "        -0.19732262, -0.19732262, -0.19732262, -0.19732262, -0.19732262,\n",
       "        -0.19732262, -0.19732262, -0.19732262, -0.19732262, -0.19732262,\n",
       "        -0.19732262, -0.19732262, -0.19732262, -0.19732262, -0.19732262,\n",
       "        -0.19732262, -0.19732262],\n",
       "       [ 0.82136091,  0.82136091,  0.82136091,  0.82136091,  0.82136091,\n",
       "         0.82136091,  0.82136091,  0.82136091,  0.82136091,  0.82136091,\n",
       "         0.82136091,  0.82136091,  0.82136091,  0.82136091,  0.82136091,\n",
       "         0.82136091,  0.82136091,  0.82136091,  0.82136091,  0.82136091,\n",
       "         0.82136091,  0.82136091,  0.82136091,  0.82136091,  0.82136091,\n",
       "         0.82136091,  0.82136091,  0.82136091,  0.82136091,  0.82136091,\n",
       "         0.82136091,  0.82136091,  0.82136091,  0.82136091,  0.82136091,\n",
       "         0.82136091,  0.82136091,  0.82136091,  0.82136091,  0.82136091,\n",
       "         0.82136091,  0.82136091,  0.82136091,  0.82136091,  0.82136091,\n",
       "         0.82136091,  0.82136091,  0.82136091,  0.82136091,  0.82136091,\n",
       "         0.82136091,  0.82136091,  0.82136091,  0.82136091,  0.82136091,\n",
       "         0.82136091,  0.82136091,  0.82136091,  0.82136091,  0.82136091,\n",
       "         0.82136091,  0.82136091,  0.82136091,  0.82136091,  0.82136091,\n",
       "         0.82136091,  0.82136091,  0.82136091,  0.82136091,  0.82136091,\n",
       "         0.82136091,  0.82136091,  0.82136091,  0.82136091,  0.82136091,\n",
       "         0.82136091,  0.82136091,  0.82136091,  0.82136091,  0.82136091,\n",
       "         0.82136091,  0.82136091,  0.82136091,  0.82136091,  0.82136091,\n",
       "         0.82136091,  0.82136091,  0.82136091,  0.82136091,  0.82136091,\n",
       "         0.82136091,  0.82136091,  0.82136091,  0.82136091,  0.82136091,\n",
       "         0.82136091,  0.82136091]])"
      ]
     },
     "execution_count": 35,
     "metadata": {},
     "output_type": "execute_result"
    }
   ],
   "source": [
    "m=gradientDescent(X,y,thet)\n",
    "m"
   ]
  },
  {
   "cell_type": "code",
   "execution_count": 36,
   "metadata": {},
   "outputs": [
    {
     "name": "stdout",
     "output_type": "stream",
     "text": [
      "0.821360907108657 -0.19732261554827576\n"
     ]
    }
   ],
   "source": [
    "intercept=m[0][0]\n",
    "coff=m[1][0]\n",
    "print(coff,intercept)"
   ]
  },
  {
   "cell_type": "code",
   "execution_count": 38,
   "metadata": {},
   "outputs": [
    {
     "data": {
      "text/plain": [
       "[<matplotlib.lines.Line2D at 0x21a3f107160>]"
      ]
     },
     "execution_count": 38,
     "metadata": {},
     "output_type": "execute_result"
    },
    {
     "data": {
      "image/png": "[encoded data removed]",
      "text/plain": [
       "<Figure size 432x288 with 1 Axes>"
      ]
     },
     "metadata": {
      "needs_background": "light"
     },
     "output_type": "display_data"
    }
   ],
   "source": [
    "plt.scatter(X,y)\n",
    "plt.plot(X,coff*X+intercept,\"k\")"
   ]
  },
  {
   "cell_type": "code",
   "execution_count": 57,
   "metadata": {},
   "outputs": [
    {
     "name": "stdout",
     "output_type": "stream",
     "text": [
      "Coefficients:  [[1.22178295]]\n",
      "Intercept:  [-4.00775148]\n"
     ]
    }
   ],
   "source": [
    "msk = np.random.rand(len(data)) < 0.8\n",
    "trai = data[msk]\n",
    "test = data[~msk]\n",
    "\n",
    "from sklearn import linear_model\n",
    "regr = linear_model.LinearRegression()\n",
    "trai_x = np.asanyarray(trai[['population']])\n",
    "trai_y = np.asanyarray(trai[['profit']])\n",
    "regr.fit (trai_x, trai_y)\n",
    "# The coefficients\n",
    "print ('Coefficients: ', regr.coef_)\n",
    "print ('Intercept: ',regr.intercept_)"
   ]
  },
  {
   "cell_type": "code",
   "execution_count": 58,
   "metadata": {},
   "outputs": [
    {
     "data": {
      "image/png": "[encoded data removed]",
      "text/plain": [
       "<Figure size 432x288 with 1 Axes>"
      ]
     },
     "metadata": {
      "needs_background": "light"
     },
     "output_type": "display_data"
    }
   ],
   "source": [
    "plt.scatter(X,y)\n",
    "plt.plot(trai_x,regr.coef_*trai_x+regr.intercept_)\n",
    "plt.show()"
   ]
  },
  {
   "cell_type": "code",
   "execution_count": 41,
   "metadata": {},
   "outputs": [
    {
     "name": "stdout",
     "output_type": "stream",
     "text": [
      "prices for population of 35000 :  [[3577.2270668]]\n",
      "prices for population of 70000 :  [[45074.76658327]]\n"
     ]
    }
   ],
   "source": [
    "print(\"prices for population of 35000 : \",(regr.coef_*3.5+regr.intercept_)*10000)\n",
    "print(\"prices for population of 70000 : \",(regr.coef_*7+regr.intercept_)*10000)"
   ]
  },
  {
   "cell_type": "code",
   "execution_count": 79,
   "metadata": {},
   "outputs": [
    {
     "data": {
      "text/plain": [
       "0.122618011871605"
      ]
     },
     "execution_count": 79,
     "metadata": {},
     "output_type": "execute_result"
    }
   ],
   "source": [
    "((regr.coef_*X+regr.intercept_)-y).mean()"
   ]
  },
  {
   "cell_type": "code",
   "execution_count": null,
   "metadata": {},
   "outputs": [],
   "source": []
  }
 ],
 "metadata": {
  "kernelspec": {
   "display_name": "Python 3",
   "language": "python",
   "name": "python3"
  },
  "language_info": {
   "codemirror_mode": {
    "name": "ipython",
    "version": 3
   },
   "file_extension": ".py",
   "mimetype": "text/x-python",
   "name": "python",
   "nbconvert_exporter": "python",
   "pygments_lexer": "ipython3",
   "version": "3.7.1"
  }
 },
 "nbformat": 4,
 "nbformat_minor": 2
}
